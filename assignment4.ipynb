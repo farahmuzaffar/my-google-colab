{
  "cells": [
    {
      "cell_type": "markdown",
      "metadata": {
        "id": "view-in-github",
        "colab_type": "text"
      },
      "source": [
        "<a href=\"https://colab.research.google.com/github/farahmuzaffar/my-google-colab/blob/main/assignment4.ipynb\" target=\"_parent\"><img src=\"https://colab.research.google.com/assets/colab-badge.svg\" alt=\"Open In Colab\"/></a>"
      ]
    },
    {
      "cell_type": "code",
      "source": [],
      "metadata": {
        "id": "uZLILY_x1Ze2"
      },
      "execution_count": null,
      "outputs": []
    },
    {
      "cell_type": "markdown",
      "source": [
        "Add two numbers:"
      ],
      "metadata": {
        "id": "bKLknhHk_xbH"
      }
    },
    {
      "cell_type": "code",
      "execution_count": null,
      "metadata": {
        "colab": {
          "base_uri": "https://localhost:8080/"
        },
        "id": "an1f85uZ1qK7",
        "outputId": "1891b051-6510-4870-b791-8bd63447f6c7"
      },
      "outputs": [
        {
          "name": "stdout",
          "output_type": "stream",
          "text": [
            "Enter your first number = 34\n",
            "Enter your second number = 16\n",
            "The sum of two numbers:  50\n"
          ]
        }
      ],
      "source": [
        "def main():\n",
        "  num1 = int(input(\"Enter your first number = \"))\n",
        "  num2 = int(input(\"Enter your second number = \"))\n",
        "\n",
        "  total = num1 + num2\n",
        "  print(\"The sum of two numbers: \",total)\n",
        "\n",
        "main()"
      ]
    },
    {
      "cell_type": "markdown",
      "source": [
        "Agreement bot:"
      ],
      "metadata": {
        "id": "183CR-xiAOfU"
      }
    },
    {
      "cell_type": "code",
      "execution_count": null,
      "metadata": {
        "colab": {
          "base_uri": "https://localhost:8080/"
        },
        "id": "vKCX9zC227Xz",
        "outputId": "8bea7db7-a505-4b7a-8866-7342064e548a"
      },
      "outputs": [
        {
          "name": "stdout",
          "output_type": "stream",
          "text": [
            "What is your favorite animal? bear\n",
            "my favourite animal is also a bear\n"
          ]
        }
      ],
      "source": [
        "def main():\n",
        "  animal = (input(\"What is your favorite animal? \"))\n",
        "  print(\"my favourite animal is also a\",animal)\n",
        "main()\n"
      ]
    },
    {
      "cell_type": "markdown",
      "source": [
        "Fahrenhiet to Celcius:"
      ],
      "metadata": {
        "id": "wUbD1jACAT1-"
      }
    },
    {
      "cell_type": "code",
      "execution_count": null,
      "metadata": {
        "colab": {
          "base_uri": "https://localhost:8080/"
        },
        "id": "wDT78XjB6lwq",
        "outputId": "a120ec58-7ebf-49ce-ec24-f715e9e43029"
      },
      "outputs": [
        {
          "name": "stdout",
          "output_type": "stream",
          "text": [
            "Enter the temperature in fahrenhiet 32\n",
            "32.0F is equal to 0.0C\n"
          ]
        }
      ],
      "source": [
        "def main():\n",
        "  fahrenhiet = float(input(\"Enter the temperature in fahrenhiet \"))\n",
        "  celcius = 5/9 * (fahrenhiet - 32)\n",
        "  print(f\"{fahrenhiet}F is equal to {celcius}C\")\n",
        "\n",
        "if __name__ == \"__main__\":\n",
        "  main()\n",
        "\n"
      ]
    },
    {
      "cell_type": "markdown",
      "source": [
        "How old are they:"
      ],
      "metadata": {
        "id": "lYK0G9IxAeXT"
      }
    },
    {
      "cell_type": "code",
      "execution_count": null,
      "metadata": {
        "colab": {
          "base_uri": "https://localhost:8080/"
        },
        "id": "VADz03KD9AM5",
        "outputId": "777b7782-2372-455b-9174-3e0b422a804d"
      },
      "outputs": [
        {
          "name": "stdout",
          "output_type": "stream",
          "text": [
            "Anton is 21 years old\n",
            "Beth is 27 years old\n",
            "Chen is 47 years old\n",
            "Drew is 68 years old\n",
            "Ethan is 47 years old\n"
          ]
        }
      ],
      "source": [
        "def main():\n",
        "  Anton = 21\n",
        "  Beth = 21 + 6\n",
        "  Chen = Beth + 20\n",
        "  Drew = Chen + Anton\n",
        "  Ethan = Chen\n",
        "  print(f\"Anton is {Anton} years old\")\n",
        "  print(f\"Beth is {Beth} years old\")\n",
        "  print(f\"Chen is {Chen} years old\")\n",
        "  print(f\"Drew is {Drew} years old\")\n",
        "  print(f\"Ethan is {Ethan} years old\")\n",
        "\n",
        "main()"
      ]
    },
    {
      "cell_type": "markdown",
      "source": [
        "Triangle parameter:"
      ],
      "metadata": {
        "id": "RJ03vQpLAkVj"
      }
    },
    {
      "cell_type": "code",
      "execution_count": null,
      "metadata": {
        "colab": {
          "base_uri": "https://localhost:8080/"
        },
        "id": "XqVaT_s6Aoy1",
        "outputId": "33223c6f-058a-4825-f70c-5ec9adbc20e2"
      },
      "outputs": [
        {
          "name": "stdout",
          "output_type": "stream",
          "text": [
            "Enter the length of side 1 = 5.8\n",
            "Enter the length of side 2 = 4.32\n",
            "Enter the length of side 3 = 7.09\n",
            "The perimeter of a triangle 17.21\n"
          ]
        }
      ],
      "source": [
        "def main():\n",
        "  side1 : float = float(input(\"Enter the length of side 1 = \"))\n",
        "  side2 : float = float(input(\"Enter the length of side 2 = \"))\n",
        "  side3 : float = float(input(\"Enter the length of side 3 = \"))\n",
        "  print(\"The perimeter of a triangle \"+ str(side1 + side2 + side3))\n",
        "\n",
        "main()"
      ]
    },
    {
      "cell_type": "markdown",
      "source": [
        "Square number:"
      ],
      "metadata": {
        "id": "eRawCrlrArXw"
      }
    },
    {
      "cell_type": "code",
      "execution_count": null,
      "metadata": {
        "colab": {
          "base_uri": "https://localhost:8080/"
        },
        "id": "c_2Od-0cEVWY",
        "outputId": "7c347d49-e77a-4d98-c5da-cdbef277d134"
      },
      "outputs": [
        {
          "name": "stdout",
          "output_type": "stream",
          "text": [
            "Type a number to see its square: 4\n",
            "4.0 squared is 16.0\n"
          ]
        }
      ],
      "source": [
        "\n",
        "def main():\n",
        "    num: float = float(input(\"Type a number to see its square: \"))\n",
        "    print(str(num) + \" squared is \" + str(num ** 2))\n",
        "if __name__ == '__main__':\n",
        "    main()\n"
      ]
    },
    {
      "cell_type": "markdown",
      "source": [
        "Dice Stimulator:"
      ],
      "metadata": {
        "id": "kqbPUUA2Axwl"
      }
    },
    {
      "cell_type": "code",
      "execution_count": null,
      "metadata": {
        "colab": {
          "base_uri": "https://localhost:8080/"
        },
        "id": "coEWDbRSEENp",
        "outputId": "8e50941e-e175-4fec-a58d-f6d2e09c9302"
      },
      "outputs": [
        {
          "name": "stdout",
          "output_type": "stream",
          "text": [
            "Total of two dice:  7\n"
          ]
        }
      ],
      "source": [
        "import random\n",
        "num_sides = 6\n",
        "dice1:int = random.randint(1,num_sides)\n",
        "dice2:int = random.randint(1,num_sides)\n",
        "total:int = (dice1 + dice2)\n",
        "\n",
        "print(\"Total of two dice: \",total)\n",
        "def roll_dice():\n",
        "  dice1: int = 10\n",
        "  print(\"dice1 in main() starts as: \" + str(dice1))\n",
        "\n",
        "\n",
        "\n",
        "  roll_dice()\n",
        "  print(\"dice1 in main() ends as: \" + str(dice1))\n",
        "\n"
      ]
    },
    {
      "cell_type": "markdown",
      "source": [
        "e = mc2:"
      ],
      "metadata": {
        "id": "k_MLDSldBBfO"
      }
    },
    {
      "cell_type": "code",
      "execution_count": null,
      "metadata": {
        "colab": {
          "base_uri": "https://localhost:8080/"
        },
        "id": "GhwbsT1NDqdM",
        "outputId": "937e0bb9-9e7d-424d-fb26-046fd1d819f6"
      },
      "outputs": [
        {
          "name": "stdout",
          "output_type": "stream",
          "text": [
            "Einstein Mass Energy Equivalence Calculator ((E = mc²))\n",
            "\n",
            "Enter kilos of mass: 5\n",
            "\n",
            "e = m * C^2...\n",
            "m = 5.0 kg\n",
            "C = 300000000 m/s\n",
            "4.5e+17 joules of energy!\n"
          ]
        }
      ],
      "source": [
        "C:int = 3*10**8\n",
        "print(\"Einstein Mass Energy Equivalence Calculator ((E = mc²))\")\n",
        "def main():\n",
        "\n",
        "  user_input = input(\"\\nEnter kilos of mass: \")\n",
        "  mass = float(user_input)\n",
        "  energy = mass * C**2\n",
        "\n",
        "  print(\"\\ne = m * C^2...\")\n",
        "  print(f\"m = {mass} kg\")\n",
        "  print(f\"C = {C} m/s\")\n",
        "  print(f\"{energy} joules of energy!\")\n",
        "\n",
        "main()"
      ]
    },
    {
      "cell_type": "markdown",
      "source": [
        "Feet to Inches:"
      ],
      "metadata": {
        "id": "fGmpD0FGBOSI"
      }
    },
    {
      "cell_type": "code",
      "execution_count": null,
      "metadata": {
        "colab": {
          "base_uri": "https://localhost:8080/"
        },
        "id": "-OL8O2l1NZ6P",
        "outputId": "742b0a0e-7224-4c30-89a4-11c2ef379a8a"
      },
      "outputs": [
        {
          "name": "stdout",
          "output_type": "stream",
          "text": [
            "Inches to Feet Calculator\n",
            "Enter the number of feet: 5\n",
            "5.0 feet is equal to 60.0 inches\n"
          ]
        }
      ],
      "source": [
        "inches_in_foot:int = 12\n",
        "def main():\n",
        "  print(\"Inches to Feet Calculator\")\n",
        "  feet:float = float(input(\"Enter the number of feet: \"))\n",
        "  inches:float = feet*inches_in_foot\n",
        "  print(f\"{feet} feet is equal to {inches} inches\")\n",
        "if __name__ == '__main__':\n",
        "    main()"
      ]
    },
    {
      "cell_type": "markdown",
      "source": [
        "Pythagorian Theorem:"
      ],
      "metadata": {
        "id": "483NVHXtBk5E"
      }
    },
    {
      "cell_type": "code",
      "execution_count": null,
      "metadata": {
        "colab": {
          "base_uri": "https://localhost:8080/"
        },
        "id": "adtq4a-hV9TO",
        "outputId": "0dbf758a-a7ba-4918-ed04-5c9b6d8245c6"
      },
      "outputs": [
        {
          "name": "stdout",
          "output_type": "stream",
          "text": [
            "Enter the length of AB: 5\n",
            "Enter the length of AC: 5\n",
            "The length of BC (the hypotenuse) is: 7.0710678118654755\n"
          ]
        }
      ],
      "source": [
        "import math  # Import the math library so we can use the sqrt function\n",
        "\n",
        "def main():\n",
        "    # Get the two side lengths from the user and cast them to be numbers\n",
        "    ab: float = float(input(\"Enter the length of AB: \"))\n",
        "    ac: float = float(input(\"Enter the length of AC: \"))\n",
        "\n",
        "    # Calculate the hypotenuse using the two sides and print it out\n",
        "    bc: float = math.sqrt(ab**2 + ac**2)\n",
        "    print(\"The length of BC (the hypotenuse) is: \" + str(bc))\n",
        "if __name__ == '__main__':\n",
        "    main()"
      ]
    },
    {
      "cell_type": "markdown",
      "source": [
        "Remainder:"
      ],
      "metadata": {
        "id": "yNoGgfXIBqf4"
      }
    },
    {
      "cell_type": "code",
      "execution_count": null,
      "metadata": {
        "colab": {
          "base_uri": "https://localhost:8080/"
        },
        "id": "zpfAVSciW1Sr",
        "outputId": "a43ae837-0812-4bf0-e9f6-3a7cf105a3f4"
      },
      "outputs": [
        {
          "name": "stdout",
          "output_type": "stream",
          "text": [
            "Enter the dividend number: 5\n",
            "Enter the divisor number: 2\n",
            "5 divided by 2 is 2 with a remainder of 1\n"
          ]
        }
      ],
      "source": [
        "def main():\n",
        "  dividend:int = int(input(\"Enter the dividend number: \"))\n",
        "  divisor:int = int(input(\"Enter the divisor number: \"))\n",
        "  quotient:int = dividend // divisor\n",
        "  remainder:int = dividend % divisor\n",
        "  print(f\"{dividend} divided by {divisor} is {quotient} with a remainder of {remainder}\")\n",
        "\n",
        "main()"
      ]
    },
    {
      "cell_type": "markdown",
      "source": [
        "Roll Dice:"
      ],
      "metadata": {
        "id": "JQzCdAerBvFX"
      }
    },
    {
      "cell_type": "code",
      "execution_count": null,
      "metadata": {
        "colab": {
          "base_uri": "https://localhost:8080/"
        },
        "id": "2HvC0b9RYGM7",
        "outputId": "4f4e29d6-6de8-46bd-fb0e-84b35220771a"
      },
      "outputs": [
        {
          "name": "stdout",
          "output_type": "stream",
          "text": [
            "Dice have 6 sides each.\n",
            "First dice: 1\n",
            "Second dice: 3\n",
            "Total of two dice: 4\n"
          ]
        }
      ],
      "source": [
        "import random\n",
        "num_sides = 6\n",
        "\n",
        "def main():\n",
        "  dice1:int = random.randint(1,num_sides)\n",
        "  dice2:int = random.randint(1,num_sides)\n",
        "  total:int = (dice1 + dice2)\n",
        "\n",
        "  print(\"Dice have\", num_sides, \"sides each.\")\n",
        "  print(\"First dice:\", dice1)\n",
        "  print(\"Second dice:\", dice2)\n",
        "  print(\"Total of two dice:\", total)\n",
        "\n",
        "\n",
        "\n",
        "main()"
      ]
    },
    {
      "cell_type": "markdown",
      "source": [
        "Seconds in a year:"
      ],
      "metadata": {
        "id": "R-ZmEVbOByzD"
      }
    },
    {
      "cell_type": "code",
      "execution_count": null,
      "metadata": {
        "colab": {
          "base_uri": "https://localhost:8080/"
        },
        "id": "vA5F_HnbbwMU",
        "outputId": "66585089-dff7-4aa3-b50c-2648f694e5f6"
      },
      "outputs": [
        {
          "name": "stdout",
          "output_type": "stream",
          "text": [
            "There are 31536000 seconds in a year\n"
          ]
        }
      ],
      "source": [
        "DAYS_PER_YEAR:int = 365\n",
        "HOURS_PER_DAY:int = 24\n",
        "MIN_PER_HOUR:int = 60\n",
        "SEC_PER_MIN:int = 60\n",
        "def main():\n",
        "  print(\"There are \"+str(DAYS_PER_YEAR*HOURS_PER_DAY*MIN_PER_HOUR*SEC_PER_MIN)+\" seconds in a year\")\n",
        "\n",
        "main()"
      ]
    },
    {
      "cell_type": "markdown",
      "source": [
        "Tiny madlib:"
      ],
      "metadata": {
        "id": "2p-060-RB5Da"
      }
    },
    {
      "cell_type": "code",
      "execution_count": null,
      "metadata": {
        "colab": {
          "base_uri": "https://localhost:8080/"
        },
        "id": "NR-iKVtQdiiK",
        "outputId": "70448627-6cf1-42f4-8236-2af8de04deb0"
      },
      "outputs": [
        {
          "name": "stdout",
          "output_type": "stream",
          "text": [
            "Please type an adjective and press enter. big\n",
            "Please type a noun and press enter. ali\n",
            "Please type a verb and press enter. play\n",
            "Panaversity is fun. I learned to program and used Python to make my big ali play!\n"
          ]
        }
      ],
      "source": [
        "SENTENCE_START:str = \"Panaversity is fun. I learned to program and used Python to make my \"\n",
        "def main():\n",
        "  adjective: str = input(\"Please type an adjective and press enter. \")\n",
        "  noun: str = input(\"Please type a noun and press enter. \")\n",
        "  verb: str = input(\"Please type a verb and press enter. \")\n",
        "  print(SENTENCE_START + adjective + \" \" + noun + \" \" + verb + \"!\")\n",
        "\n",
        "\n",
        "\n",
        "main()"
      ]
    },
    {
      "cell_type": "markdown",
      "source": [
        "Add many number:"
      ],
      "metadata": {
        "id": "pw6UMekGB_Lq"
      }
    },
    {
      "cell_type": "code",
      "execution_count": null,
      "metadata": {
        "colab": {
          "base_uri": "https://localhost:8080/"
        },
        "id": "Lsz14mxybnia",
        "outputId": "9c14afbc-c29d-46ad-af5c-42d0365c4647"
      },
      "outputs": [
        {
          "name": "stdout",
          "output_type": "stream",
          "text": [
            "15\n"
          ]
        }
      ],
      "source": [
        "def sum_numbers(numbers):\n",
        "    total = 0\n",
        "    for num in numbers:\n",
        "        total += num\n",
        "    return total\n",
        "\n",
        "# Example usage:\n",
        "numbers = [1, 2, 3, 4, 5]\n",
        "print(sum_numbers(numbers))"
      ]
    },
    {
      "cell_type": "markdown",
      "source": [
        "Double list:"
      ],
      "metadata": {
        "id": "SkO7uOkyCPX3"
      }
    },
    {
      "cell_type": "code",
      "execution_count": null,
      "metadata": {
        "colab": {
          "base_uri": "https://localhost:8080/"
        },
        "id": "_UF-DW9BcdXN",
        "outputId": "fa0552e9-9a64-4540-8ddd-c4d96282eb8d"
      },
      "outputs": [
        {
          "name": "stdout",
          "output_type": "stream",
          "text": [
            "[2, 4, 6, 8, 10]\n"
          ]
        }
      ],
      "source": [
        "numbers = [1,2,3,4,5]\n",
        "numbers = [num*2 for num in numbers]\n",
        "print(numbers)"
      ]
    },
    {
      "cell_type": "markdown",
      "source": [
        "Erase Canvas:"
      ],
      "metadata": {
        "id": "L0hdi9r9CUuY"
      }
    },
    {
      "cell_type": "code",
      "execution_count": null,
      "metadata": {
        "colab": {
          "base_uri": "https://localhost:8080/",
          "height": 321
        },
        "id": "K3cHFwy3jePV",
        "outputId": "509c4f72-fb22-42fc-dc1d-3657705f5523"
      },
      "outputs": [
        {
          "ename": "KeyboardInterrupt",
          "evalue": "",
          "output_type": "error",
          "traceback": [
            "\u001b[0;31m---------------------------------------------------------------------------\u001b[0m",
            "\u001b[0;31mKeyboardInterrupt\u001b[0m                         Traceback (most recent call last)",
            "\u001b[0;32m<ipython-input-15-87fd7c0085a7>\u001b[0m in \u001b[0;36m<cell line: 0>\u001b[0;34m()\u001b[0m\n\u001b[1;32m     93\u001b[0m \u001b[0;34m\u001b[0m\u001b[0m\n\u001b[1;32m     94\u001b[0m \u001b[0;32mif\u001b[0m \u001b[0m__name__\u001b[0m \u001b[0;34m==\u001b[0m \u001b[0;34m\"__main__\"\u001b[0m\u001b[0;34m:\u001b[0m\u001b[0;34m\u001b[0m\u001b[0;34m\u001b[0m\u001b[0m\n\u001b[0;32m---> 95\u001b[0;31m     \u001b[0mmain\u001b[0m\u001b[0;34m(\u001b[0m\u001b[0;34m)\u001b[0m\u001b[0;34m\u001b[0m\u001b[0;34m\u001b[0m\u001b[0m\n\u001b[0m",
            "\u001b[0;32m<ipython-input-15-87fd7c0085a7>\u001b[0m in \u001b[0;36mmain\u001b[0;34m()\u001b[0m\n\u001b[1;32m     80\u001b[0m         \u001b[0;31m# Draw everything\u001b[0m\u001b[0;34m\u001b[0m\u001b[0;34m\u001b[0m\u001b[0m\n\u001b[1;32m     81\u001b[0m         \u001b[0mscreen\u001b[0m\u001b[0;34m.\u001b[0m\u001b[0mfill\u001b[0m\u001b[0;34m(\u001b[0m\u001b[0mWHITE\u001b[0m\u001b[0;34m)\u001b[0m\u001b[0;34m\u001b[0m\u001b[0;34m\u001b[0m\u001b[0m\n\u001b[0;32m---> 82\u001b[0;31m         \u001b[0mdraw_grid\u001b[0m\u001b[0;34m(\u001b[0m\u001b[0;34m)\u001b[0m\u001b[0;34m\u001b[0m\u001b[0;34m\u001b[0m\u001b[0m\n\u001b[0m\u001b[1;32m     83\u001b[0m \u001b[0;34m\u001b[0m\u001b[0m\n\u001b[1;32m     84\u001b[0m         \u001b[0;31m# Show eraser position\u001b[0m\u001b[0;34m\u001b[0m\u001b[0;34m\u001b[0m\u001b[0m\n",
            "\u001b[0;32m<ipython-input-15-87fd7c0085a7>\u001b[0m in \u001b[0;36mdraw_grid\u001b[0;34m()\u001b[0m\n\u001b[1;32m     34\u001b[0m                 \u001b[0;34m(\u001b[0m\u001b[0mcol\u001b[0m \u001b[0;34m*\u001b[0m \u001b[0mCELL_SIZE\u001b[0m\u001b[0;34m,\u001b[0m \u001b[0mrow\u001b[0m \u001b[0;34m*\u001b[0m \u001b[0mCELL_SIZE\u001b[0m\u001b[0;34m,\u001b[0m \u001b[0mCELL_SIZE\u001b[0m\u001b[0;34m,\u001b[0m \u001b[0mCELL_SIZE\u001b[0m\u001b[0;34m)\u001b[0m\u001b[0;34m\u001b[0m\u001b[0;34m\u001b[0m\u001b[0m\n\u001b[1;32m     35\u001b[0m             )\n\u001b[0;32m---> 36\u001b[0;31m             pygame.draw.rect(\n\u001b[0m\u001b[1;32m     37\u001b[0m                 \u001b[0mscreen\u001b[0m\u001b[0;34m,\u001b[0m\u001b[0;34m\u001b[0m\u001b[0;34m\u001b[0m\u001b[0m\n\u001b[1;32m     38\u001b[0m                 \u001b[0;34m(\u001b[0m\u001b[0;36m200\u001b[0m\u001b[0;34m,\u001b[0m \u001b[0;36m200\u001b[0m\u001b[0;34m,\u001b[0m \u001b[0;36m200\u001b[0m\u001b[0;34m)\u001b[0m\u001b[0;34m,\u001b[0m\u001b[0;34m\u001b[0m\u001b[0;34m\u001b[0m\u001b[0m\n",
            "\u001b[0;31mKeyboardInterrupt\u001b[0m: "
          ]
        }
      ],
      "source": [
        "import pygame\n",
        "import sys\n",
        "\n",
        "# Initialize pygame\n",
        "pygame.init()\n",
        "\n",
        "# Constants\n",
        "WIDTH, HEIGHT = 800, 600\n",
        "CELL_SIZE = 20\n",
        "GRID_COLS = WIDTH // CELL_SIZE\n",
        "GRID_ROWS = HEIGHT // CELL_SIZE\n",
        "ERASER_SIZE = 30\n",
        "\n",
        "# Colors\n",
        "BLUE = (0, 0, 255)\n",
        "WHITE = (255, 255, 255)\n",
        "RED = (255, 0, 0)  # For the eraser indicator\n",
        "\n",
        "# Set up the display\n",
        "screen = pygame.display.set_mode((WIDTH, HEIGHT))\n",
        "pygame.display.set_caption(\"Canvas Eraser\")\n",
        "clock = pygame.time.Clock()\n",
        "\n",
        "# Create grid (0 means white, 1 means blue)\n",
        "grid = [[1 for _ in range(GRID_COLS)] for _ in range(GRID_ROWS)]\n",
        "\n",
        "def draw_grid():\n",
        "    for row in range(GRID_ROWS):\n",
        "        for col in range(GRID_COLS):\n",
        "            color = WHITE if grid[row][col] == 0 else BLUE\n",
        "            pygame.draw.rect(\n",
        "                screen,\n",
        "                color,\n",
        "                (col * CELL_SIZE, row * CELL_SIZE, CELL_SIZE, CELL_SIZE)\n",
        "            )\n",
        "            pygame.draw.rect(\n",
        "                screen,\n",
        "                (200, 200, 200),\n",
        "                (col * CELL_SIZE, row * CELL_SIZE, CELL_SIZE, CELL_SIZE),\n",
        "                1\n",
        "            )\n",
        "\n",
        "def erase_area(pos):\n",
        "    eraser_col = pos[0] // CELL_SIZE\n",
        "    eraser_row = pos[1] // CELL_SIZE\n",
        "    eraser_size_cols = ERASER_SIZE // CELL_SIZE\n",
        "    eraser_size_rows = ERASER_SIZE // CELL_SIZE\n",
        "\n",
        "    for row in range(max(0, eraser_row - eraser_size_rows),min(GRID_ROWS, eraser_row + eraser_size_rows + 1)):\n",
        "    for col in range(max(0, eraser_col - eraser_size_cols),min(GRID_COLS, eraser_col + eraser_size_cols + 1)):\n",
        "    grid[row][col] = 0\n",
        "\n",
        "def draw_eraser(pos):\n",
        "    pygame.draw.rect(\n",
        "        screen,\n",
        "        RED,\n",
        "        (pos[0] - ERASER_SIZE//2, pos[1] - ERASER_SIZE//2, ERASER_SIZE, ERASER_SIZE),2)\n",
        "\n",
        "def main():\n",
        "    running = True\n",
        "    erasing = False\n",
        "\n",
        "    while running:\n",
        "        for event in pygame.event.get():\n",
        "            if event.type == pygame.QUIT:\n",
        "                running = False\n",
        "            elif event.type == pygame.MOUSEBUTTONDOWN:\n",
        "                if event.button == 1:  # Left mouse button\n",
        "                    erasing = True\n",
        "            elif event.type == pygame.MOUSEBUTTONUP:\n",
        "                if event.button == 1:\n",
        "                    erasing = False\n",
        "            elif event.type == pygame.MOUSEMOTION and erasing:\n",
        "                erase_area(event.pos)\n",
        "\n",
        "\n",
        "        screen.fill(WHITE)\n",
        "        draw_grid()\n",
        "\n",
        "        # Show eraser position\n",
        "        mouse_pos = pygame.mouse.get_pos()\n",
        "        draw_eraser(mouse_pos)\n",
        "\n",
        "        pygame.display.flip()\n",
        "        clock.tick(60)\n",
        "\n",
        "    pygame.quit()\n",
        "    sys.exit()\n",
        "\n",
        "if __name__ == \"__main__\":\n",
        "    main()"
      ]
    },
    {
      "cell_type": "markdown",
      "source": [
        "Flowing with Data structures:"
      ],
      "metadata": {
        "id": "oXQjX748C8uv"
      }
    },
    {
      "cell_type": "code",
      "execution_count": null,
      "metadata": {
        "colab": {
          "base_uri": "https://localhost:8080/"
        },
        "id": "VFM8abe7j3MN",
        "outputId": "85937674-0dd2-48c8-b542-644d386bc840"
      },
      "outputs": [
        {
          "name": "stdout",
          "output_type": "stream",
          "text": [
            "Enter a message to copy: i m superwoman\n",
            "List before: []\n",
            "List after: ['i m superwoman', 'i m superwoman', 'i m superwoman']\n"
          ]
        }
      ],
      "source": [
        "def add_three_copies(my_list,data):\n",
        "  for i in range(3):\n",
        "    my_list.append(data)\n",
        "def main():\n",
        "  message = input(\"Enter a message to copy: \")\n",
        "  my_list = []\n",
        "  print(\"List before:\", my_list)\n",
        "  add_three_copies(my_list, message)\n",
        "  print(\"List after:\", my_list)\n",
        "\n",
        "if __name__ == \"__main__\":\n",
        "    main()\n"
      ]
    },
    {
      "cell_type": "markdown",
      "source": [
        "Get 1st element:"
      ],
      "metadata": {
        "id": "UW01A3-eDJYB"
      }
    },
    {
      "cell_type": "code",
      "execution_count": null,
      "metadata": {
        "colab": {
          "base_uri": "https://localhost:8080/"
        },
        "id": "uTySdr98lvuK",
        "outputId": "ee71cc35-de1d-437e-95ec-0d904ad12757"
      },
      "outputs": [
        {
          "name": "stdout",
          "output_type": "stream",
          "text": [
            "Enter elements one at a time (press Enter without typing to finish):\n",
            "> fis\n",
            "> hyuj\n",
            "> kjiuy\n",
            "> hjuyt\n",
            "> loijhy\n",
            "> hgyujj\n",
            "> \n",
            "fis\n"
          ]
        }
      ],
      "source": [
        "def get_first_element(lst):\n",
        "    # Print the first element of the list\n",
        "    print(lst[0])\n",
        "\n",
        "# Prompt user for list input\n",
        "lst = []\n",
        "print(\"Enter elements one at a time (press Enter without typing to finish):\")\n",
        "while True:\n",
        "    element = input(\"> \")\n",
        "    if element == \"\":\n",
        "        break\n",
        "    lst.append(element)\n",
        "\n",
        "# Call the function with the user-provided list\n",
        "if lst:  # This check is redundant per the problem statement, but good practice\n",
        "    get_first_element(lst)\n",
        "\n"
      ]
    },
    {
      "cell_type": "markdown",
      "source": [
        "Get last element:"
      ],
      "metadata": {
        "id": "rcvUmvkWDOSi"
      }
    },
    {
      "cell_type": "code",
      "execution_count": null,
      "metadata": {
        "colab": {
          "base_uri": "https://localhost:8080/"
        },
        "id": "Qh07vOzjtH66",
        "outputId": "414f8404-0fc7-4299-a2db-e30a38535b35"
      },
      "outputs": [
        {
          "name": "stdout",
          "output_type": "stream",
          "text": [
            "40\n"
          ]
        }
      ],
      "source": [
        "def get_last_element(lst):\n",
        "    \"\"\"Returns the last element of a non-empty list.\"\"\"\n",
        "    return lst[-1]\n",
        "my_list = [10, 20, 30, 40]\n",
        "print(get_last_element(my_list))"
      ]
    },
    {
      "cell_type": "markdown",
      "source": [
        "Get list:"
      ],
      "metadata": {
        "id": "5Blv5acwDSf0"
      }
    },
    {
      "cell_type": "code",
      "execution_count": null,
      "metadata": {
        "colab": {
          "base_uri": "https://localhost:8080/"
        },
        "id": "Eb0TI8zDt_cH",
        "outputId": "0fe60f4c-ce3f-46c8-9186-df30e2406858"
      },
      "outputs": [
        {
          "name": "stdout",
          "output_type": "stream",
          "text": [
            "Enter a value: farah\n",
            "Enter a value: rehan\n",
            "Enter a value: muzaffar\n",
            "Enter a value: \n",
            "Here's the list: ['farah', 'rehan', 'muzaffar']\n"
          ]
        }
      ],
      "source": [
        "def main():\n",
        "    lst = []  # Make an empty list to store things in\n",
        "\n",
        "    val = input(\"Enter a value: \")  # Get an initial value\n",
        "    while val:  # While the user input isn't an empty value\n",
        "        lst.append(val) # Add val to list\n",
        "        val = input(\"Enter a value: \")  # Get the next value to add\n",
        "\n",
        "    print(\"Here's the list:\", lst)\n",
        "if __name__ == '__main__':\n",
        "    main()"
      ]
    },
    {
      "cell_type": "markdown",
      "source": [
        "Shorten:"
      ],
      "metadata": {
        "id": "OcIOac_RDZFG"
      }
    },
    {
      "cell_type": "code",
      "execution_count": null,
      "metadata": {
        "colab": {
          "base_uri": "https://localhost:8080/"
        },
        "id": "iqVIo5-MQb98",
        "outputId": "fba1af1b-5ba4-4a70-bcf8-8e0354957947"
      },
      "outputs": [
        {
          "name": "stdout",
          "output_type": "stream",
          "text": [
            "Please enter an element of the list or press enter to stop. 1\n",
            "Please enter an element of the list or press enter to stop. 2\n",
            "Please enter an element of the list or press enter to stop. 3\n",
            "Please enter an element of the list or press enter to stop. 4\n",
            "Please enter an element of the list or press enter to stop. 5\n",
            "Please enter an element of the list or press enter to stop. 6\n",
            "Please enter an element of the list or press enter to stop. 7\n",
            "Please enter an element of the list or press enter to stop. \n",
            "7\n",
            "6\n"
          ]
        }
      ],
      "source": [
        "MAX_LENGTH : int = 5\n",
        "\n",
        "def shorten(lst):\n",
        "    while len(lst) > MAX_LENGTH:\n",
        "        last_elem = lst.pop()\n",
        "        print(last_elem)\n",
        "\n",
        "def get_lst():\n",
        "\n",
        "\n",
        "    lst = []\n",
        "    elem = input(\"Please enter an element of the list or press enter to stop. \")\n",
        "    while elem != \"\":\n",
        "        lst.append(elem)\n",
        "        elem = input(\"Please enter an element of the list or press enter to stop. \")\n",
        "    return lst\n",
        "\n",
        "def main():\n",
        "    lst = get_lst()\n",
        "    shorten(lst)\n",
        "\n",
        "\n",
        "if __name__ == '__main__':\n",
        "    main()\n",
        "\n",
        "\n",
        "\n"
      ]
    },
    {
      "cell_type": "markdown",
      "metadata": {
        "id": "Q93vhGj-WEcg"
      },
      "source": [
        "if-else:"
      ]
    },
    {
      "cell_type": "markdown",
      "source": [
        "Print events:"
      ],
      "metadata": {
        "id": "A5X2GSGlDs7f"
      }
    },
    {
      "cell_type": "code",
      "execution_count": null,
      "metadata": {
        "colab": {
          "base_uri": "https://localhost:8080/"
        },
        "id": "Xy5EmLKvWIG4",
        "outputId": "3203ecf6-da7c-4601-f61a-92ee811b2db7"
      },
      "outputs": [
        {
          "name": "stdout",
          "output_type": "stream",
          "text": [
            "0\n",
            "2\n",
            "4\n",
            "6\n",
            "8\n",
            "10\n",
            "12\n",
            "14\n",
            "16\n",
            "18\n",
            "20\n",
            "22\n",
            "24\n",
            "26\n",
            "28\n",
            "30\n",
            "32\n",
            "34\n",
            "36\n",
            "38\n"
          ]
        }
      ],
      "source": [
        "def main():\n",
        "  for i in range(20):\n",
        "    print(i * 2)\n",
        "main()"
      ]
    },
    {
      "cell_type": "markdown",
      "source": [
        "International voting:"
      ],
      "metadata": {
        "id": "Iwsq5itsDwWh"
      }
    },
    {
      "cell_type": "code",
      "execution_count": null,
      "metadata": {
        "colab": {
          "base_uri": "https://localhost:8080/"
        },
        "id": "caUEAY5FXVMd",
        "outputId": "4d86b704-04a7-4241-e764-874f5d2494fe"
      },
      "outputs": [
        {
          "name": "stdout",
          "output_type": "stream",
          "text": [
            "How old are you? 14\n",
            "You cannot vote in Peturksbouipo where the voting age is 16.\n",
            "You cannot vote in Stanlau where the voting age is 25.\n",
            "You cannot vote in Mayengua where the voting age is 48.\n"
          ]
        }
      ],
      "source": [
        "PETURKSBOUIPO_AGE : int = 16\n",
        "STANLAU_AGE : int = 25\n",
        "MAYENGUA_AGE : int = 48\n",
        "\n",
        "def main():\n",
        "  user_age = int(input(\"How old are you? \"))\n",
        "  if user_age >= PETURKSBOUIPO_AGE:\n",
        "        print(\"You can vote in Peturksbouipo where the voting age is \" + str(PETURKSBOUIPO_AGE) + \".\")\n",
        "  else:\n",
        "        print(\"You cannot vote in Peturksbouipo where the voting age is \" + str(PETURKSBOUIPO_AGE) + \".\")\n",
        "\n",
        "  if user_age >= STANLAU_AGE:\n",
        "        print(\"You can vote in Stanlau where the voting age is \" + str(STANLAU_AGE) + \".\")\n",
        "  else:\n",
        "        print(\"You cannot vote in Stanlau where the voting age is \" + str(STANLAU_AGE) + \".\")\n",
        "\n",
        "\n",
        "  if user_age >= MAYENGUA_AGE:\n",
        "        print(\"You can vote in Mayengua where the voting age is \" + str(MAYENGUA_AGE) + \".\")\n",
        "  else:\n",
        "        print(\"You cannot vote in Mayengua where the voting age is \" + str(MAYENGUA_AGE) + \".\")\n",
        "\n",
        "\n",
        "if __name__ == '__main__':\n",
        "    main()"
      ]
    },
    {
      "cell_type": "markdown",
      "source": [
        "Leap year:"
      ],
      "metadata": {
        "id": "A1P8DAZKD3co"
      }
    },
    {
      "cell_type": "code",
      "execution_count": null,
      "metadata": {
        "colab": {
          "base_uri": "https://localhost:8080/"
        },
        "id": "9zOXef66YRjL",
        "outputId": "852b663b-e653-45a6-ef4d-bac8163fcd53"
      },
      "outputs": [
        {
          "name": "stdout",
          "output_type": "stream",
          "text": [
            "Please input a year: 2012\n",
            "That's a leap year!\n"
          ]
        }
      ],
      "source": [
        "def main():\n",
        "\n",
        "    year = int(input('Please input a year: '))\n",
        "\n",
        "    if year % 4 == 0:\n",
        "        if year % 100 == 0:\n",
        "            if year % 400 == 0:\n",
        "                print(\"That's a leap year!\")\n",
        "            else:\n",
        "                print(\"That's not a leap year.\")\n",
        "        else:\n",
        "            print(\"That's a leap year!\")\n",
        "    else:\n",
        "        print(\"That's not a leap year.\")\n",
        "if __name__ == '__main__':\n",
        "    main()"
      ]
    },
    {
      "cell_type": "markdown",
      "source": [
        "Tall enough to ride:"
      ],
      "metadata": {
        "id": "cptBs4dqD-IZ"
      }
    },
    {
      "cell_type": "code",
      "execution_count": null,
      "metadata": {
        "colab": {
          "base_uri": "https://localhost:8080/"
        },
        "id": "uXB_Ywqldrld",
        "outputId": "8da1b56f-0cdd-478e-ea1c-72975b02d542"
      },
      "outputs": [
        {
          "name": "stdout",
          "output_type": "stream",
          "text": [
            "How tall are you? 35\n",
            "You can't ride the roller coaster!\n"
          ]
        }
      ],
      "source": [
        "MAX_HEIGHT : int = 50\n",
        "def main():\n",
        "  height = float(input(\"How tall are you? \"))\n",
        "  if height >= MAX_HEIGHT:\n",
        "    print(\"You can ride the roller coaster!\")\n",
        "  else:\n",
        "    print(\"You can't ride the roller coaster!\")\n",
        "if __name__ == '__main__':\n",
        "  main()"
      ]
    },
    {
      "cell_type": "markdown",
      "source": [
        "Random numbers:"
      ],
      "metadata": {
        "id": "l9BDE1sOEGyQ"
      }
    },
    {
      "cell_type": "code",
      "execution_count": null,
      "metadata": {
        "colab": {
          "base_uri": "https://localhost:8080/"
        },
        "id": "70lZVif0f3ZL",
        "outputId": "7dae0b9d-052b-493d-9ea0-fcaee4b0471b"
      },
      "outputs": [
        {
          "name": "stdout",
          "output_type": "stream",
          "text": [
            "87\n",
            "48\n",
            "84\n",
            "27\n",
            "6\n",
            "78\n",
            "12\n",
            "79\n",
            "24\n"
          ]
        }
      ],
      "source": [
        "\n",
        "import random\n",
        "\n",
        "N_NUMBERS : int = 10\n",
        "MIN_VALUE : int = 1\n",
        "MAX_VALUE : int = 100\n",
        "\n",
        "def main():\n",
        "   for _ in range(1,10):\n",
        "    print(random.randint(MIN_VALUE,MAX_VALUE))\n",
        "\n",
        "if __name__ == '__main__':\n",
        "    main()"
      ]
    },
    {
      "cell_type": "markdown",
      "metadata": {
        "id": "8FOxZynLloXq"
      },
      "source": [
        "Dictionaries:\n"
      ]
    },
    {
      "cell_type": "markdown",
      "source": [
        "Count nums:"
      ],
      "metadata": {
        "id": "OmlFTsJCEKjZ"
      }
    },
    {
      "cell_type": "code",
      "execution_count": null,
      "metadata": {
        "colab": {
          "base_uri": "https://localhost:8080/"
        },
        "id": "f1wVy3t3ltYz",
        "outputId": "d9375365-5086-4f85-8199-778b887568ca"
      },
      "outputs": [
        {
          "name": "stdout",
          "output_type": "stream",
          "text": [
            "Enter a number:1\n",
            "1 appears 1 times.\n",
            "Enter a number:2\n",
            "1 appears 1 times.\n",
            "2 appears 1 times.\n",
            "Enter a number:2\n",
            "1 appears 1 times.\n",
            "2 appears 2 times.\n",
            "Enter a number:2\n",
            "1 appears 1 times.\n",
            "2 appears 3 times.\n",
            "Enter a number:\n"
          ]
        }
      ],
      "source": [
        "def count_numbers():\n",
        "  numbers = []\n",
        "  while True:\n",
        "    user_input = input(\"Enter a number:\")\n",
        "    if user_input == \"\":\n",
        "      break\n",
        "\n",
        "    num  = int(user_input)\n",
        "    numbers.append(num)\n",
        "    counts = {}\n",
        "    for num in numbers:\n",
        "        if num in counts:\n",
        "            counts[num] += 1\n",
        "        else:\n",
        "            counts[num] = 1\n",
        "\n",
        "    for num, count in sorted(counts.items()):\n",
        "        print(f\"{num} appears {count} times.\")\n",
        "\n",
        "if __name__ == \"__main__\":\n",
        "    count_numbers()\n",
        "\n",
        "\n"
      ]
    },
    {
      "cell_type": "markdown",
      "source": [
        "Phonebook:"
      ],
      "metadata": {
        "id": "TnpjiQx2ETuQ"
      }
    },
    {
      "cell_type": "code",
      "execution_count": null,
      "metadata": {
        "colab": {
          "background_save": true,
          "base_uri": "https://localhost:8080/"
        },
        "id": "nbA_vYuy6I4k",
        "outputId": "9eded87c-9fd9-4031-893f-d483ff4a2109"
      },
      "outputs": [
        {
          "name": "stdout",
          "output_type": "stream",
          "text": [
            "farah -> 21345\n"
          ]
        }
      ],
      "source": [
        "def read_phone_numbers():\n",
        "\n",
        "    phonebook = {}\n",
        "\n",
        "    while True:\n",
        "        name = input(\"Name: \")\n",
        "        if name == \"\":\n",
        "            break\n",
        "        number = input(\"Number: \")\n",
        "        phonebook[name] = number\n",
        "\n",
        "    return phonebook\n",
        "\n",
        "\n",
        "def print_phonebook(phonebook):\n",
        "\n",
        "    for name in phonebook:\n",
        "        print(str(name) + \" -> \" + str(phonebook[name]))\n",
        "\n",
        "\n",
        "def lookup_numbers(phonebook):\n",
        "\n",
        "    while True:\n",
        "        name = input(\"Enter name to lookup: \")\n",
        "        if name == \"\":\n",
        "            break\n",
        "        if name not in phonebook:\n",
        "            print(name + \" is not in the phonebook\")\n",
        "        else:\n",
        "            print(phonebook[name])\n",
        "\n",
        "\n",
        "def main():\n",
        "    phonebook = read_phone_numbers()\n",
        "    print_phonebook(phonebook)\n",
        "    lookup_numbers(phonebook)\n",
        "if __name__ == '__main__':\n",
        "    main()"
      ]
    },
    {
      "cell_type": "markdown",
      "source": [],
      "metadata": {
        "id": "zKDPCXGYEadu"
      }
    },
    {
      "cell_type": "markdown",
      "metadata": {
        "id": "_C0Vd6-pCHza"
      },
      "source": [
        "Shop pop up:"
      ]
    },
    {
      "cell_type": "code",
      "execution_count": null,
      "metadata": {
        "colab": {
          "base_uri": "https://localhost:8080/"
        },
        "id": "4f2e3_8sCMLN",
        "outputId": "5a3ea98c-8bf3-44be-f89f-e275236525af"
      },
      "outputs": [
        {
          "name": "stdout",
          "output_type": "stream",
          "text": [
            "How many apple do you want to buy? 5\n",
            "50\n",
            "How many banana do you want to buy? 3\n",
            "59\n",
            "How many orange do you want to buy? 2\n",
            "69\n"
          ]
        }
      ],
      "source": [
        "def main():\n",
        "  fruits = {'apple': 10 , 'banana':3, 'orange': 5}\n",
        "  total_cost = 0\n",
        "  for fruit_name in fruits:\n",
        "    price = fruits[fruit_name]\n",
        "    amount_bought = int(input(\"How many \" + fruit_name + \" do you want to buy? \"))\n",
        "    total_cost += price * amount_bought\n",
        "    print(total_cost)\n",
        "\n",
        "if __name__ == '__main__':\n",
        "  main()\n"
      ]
    },
    {
      "cell_type": "markdown",
      "metadata": {
        "id": "nOTQU73yJhy_"
      },
      "source": [
        "powerful password:"
      ]
    },
    {
      "cell_type": "code",
      "execution_count": null,
      "metadata": {
        "colab": {
          "base_uri": "https://localhost:8080/"
        },
        "id": "IoAuK6jYJnqi",
        "outputId": "a9b8dc03-2b47-42dc-dae4-8a59863980ee"
      },
      "outputs": [
        {
          "name": "stdout",
          "output_type": "stream",
          "text": [
            "False\n",
            "True\n",
            "False\n",
            "True\n",
            "False\n",
            "True\n"
          ]
        }
      ],
      "source": [
        "from hashlib import sha256\n",
        "\n",
        "def login(email, stored_logins, password_to_check):\n",
        "\n",
        "    if stored_logins[email] == hash_password(password_to_check):\n",
        "        return True\n",
        "\n",
        "    return False\n",
        "\n",
        "def hash_password(password):\n",
        "    return sha256(password.encode()).hexdigest()\n",
        "\n",
        "def main():\n",
        "\n",
        "    stored_logins = {\n",
        "        \"example@gmail.com\": \"5e884898da28047151d0e56f8dc6292773603d0d6aabbdd62a11ef721d1542d8\",\n",
        "        \"code_in_placer@cip.org\": \"973607a4ae7b4cf7d96a100b0fb07e8519cc4f70441d41214a9f811577bb06cc\",\n",
        "        \"student@stanford.edu\": \"882c6df720fd99f5eebb1581a1cf975625cea8a160283011c0b9512bb56c95fb\"\n",
        "    }\n",
        "\n",
        "    print(login(\"example@gmail.com\", stored_logins, \"word\"))\n",
        "    print(login(\"example@gmail.com\", stored_logins, \"password\"))\n",
        "\n",
        "    print(login(\"code_in_placer@cip.org\", stored_logins, \"Karel\"))\n",
        "    print(login(\"code_in_placer@cip.org\", stored_logins, \"karel\"))\n",
        "\n",
        "    print(login(\"student@stanford.edu\", stored_logins, \"password\"))\n",
        "    print(login(\"student@stanford.edu\", stored_logins, \"123!456?789\"))\n",
        "\n",
        "\n",
        "if __name__ == '__main__':\n",
        "    main()"
      ]
    },
    {
      "cell_type": "markdown",
      "source": [
        "LOOPS_CONTROL_FLOW\n"
      ],
      "metadata": {
        "id": "T_fXPUDs3Lca"
      }
    },
    {
      "cell_type": "markdown",
      "source": [
        "Guess my number"
      ],
      "metadata": {
        "id": "b2NuiKU03W4r"
      }
    },
    {
      "cell_type": "code",
      "source": [
        "import random\n",
        "def main():\n",
        "  secret_number = random.randint(1,99)\n",
        "  print(\"I'm thinking of a number between 1 and 99.\")\n",
        "  guess = int(input(\"Enter a number: \"))\n",
        "  while guess != secret_number:\n",
        "    if guess > secret_number:\n",
        "      print(\"Too high!\")\n",
        "    else:\n",
        "      print(\"Too low!\")\n",
        "    guess = int(input(\"Enter a number: \"))\n",
        "\n",
        "  guess = int(input(\"Enter a new guess:\"))\n",
        "\n",
        "  print(\"You got it!\")\n",
        "\n",
        "if __name__ == '__main__':\n",
        "  main()\n"
      ],
      "metadata": {
        "colab": {
          "base_uri": "https://localhost:8080/"
        },
        "id": "J6rppBV53bnN",
        "outputId": "736bd86c-8906-4b78-ea9c-fec3c84facc5"
      },
      "execution_count": null,
      "outputs": [
        {
          "output_type": "stream",
          "name": "stdout",
          "text": [
            "I'm thinking of a number between 1 and 99.\n",
            "Enter a number: 50\n",
            "Too high!\n",
            "Enter a number: 25\n",
            "Too low!\n",
            "Enter a number: 35\n",
            "Too low!\n",
            "Enter a number: 41\n",
            "Too low!\n",
            "Enter a number: 42\n",
            "Too low!\n",
            "Enter a number: 44\n",
            "Too low!\n",
            "Enter a number: 46\n",
            "Too low!\n",
            "Enter a number: 48\n",
            "Too low!\n",
            "Enter a number: 49\n",
            "Enter a new guess:49\n",
            "You got it!\n"
          ]
        }
      ]
    },
    {
      "cell_type": "markdown",
      "source": [
        "Fibonacci"
      ],
      "metadata": {
        "id": "_mKeJN37AJCE"
      }
    },
    {
      "cell_type": "code",
      "source": [
        "MAX_TERM_VALUE : int = 10000\n",
        "\n",
        "def main():\n",
        "    curr_term = 0  # The 0th Fibonacci Number\n",
        "    next_term = 1  # The 1st Fibonacci Number\n",
        "    while curr_term <= MAX_TERM_VALUE:\n",
        "        print(curr_term)\n",
        "        term_after_next = curr_term + next_term\n",
        "        curr_term = next_term\n",
        "        next_term = term_after_next\n",
        "\n",
        "if __name__ == '__main__':\n",
        "    main()"
      ],
      "metadata": {
        "colab": {
          "base_uri": "https://localhost:8080/"
        },
        "id": "hXbHwP0mAMfB",
        "outputId": "e0ee618e-b9e4-438f-fd2e-151ec152c18f"
      },
      "execution_count": null,
      "outputs": [
        {
          "output_type": "stream",
          "name": "stdout",
          "text": [
            "0\n",
            "1\n",
            "1\n",
            "2\n",
            "3\n",
            "5\n",
            "8\n",
            "13\n",
            "21\n",
            "34\n",
            "55\n",
            "89\n",
            "144\n",
            "233\n",
            "377\n",
            "610\n",
            "987\n",
            "1597\n",
            "2584\n",
            "4181\n",
            "6765\n"
          ]
        }
      ]
    },
    {
      "cell_type": "markdown",
      "source": [
        "Print events:"
      ],
      "metadata": {
        "id": "aarxsTnWEkTE"
      }
    },
    {
      "cell_type": "code",
      "source": [
        "def main():\n",
        "\n",
        "    for i in range(20):\n",
        "        print(i * 2)\n",
        "\n",
        "if __name__ == \"__main__\":\n",
        "    main()"
      ],
      "metadata": {
        "colab": {
          "base_uri": "https://localhost:8080/"
        },
        "id": "0yXc5pUlAbFC",
        "outputId": "c32ff64c-9319-4f5c-c7bc-91552bb2954e"
      },
      "execution_count": null,
      "outputs": [
        {
          "output_type": "stream",
          "name": "stdout",
          "text": [
            "0\n",
            "2\n",
            "4\n",
            "6\n",
            "8\n",
            "10\n",
            "12\n",
            "14\n",
            "16\n",
            "18\n",
            "20\n",
            "22\n",
            "24\n",
            "26\n",
            "28\n",
            "30\n",
            "32\n",
            "34\n",
            "36\n",
            "38\n"
          ]
        }
      ]
    },
    {
      "cell_type": "markdown",
      "source": [
        "Wholesome machine:"
      ],
      "metadata": {
        "id": "ch7wGNuNEnpn"
      }
    },
    {
      "cell_type": "code",
      "source": [
        "AFFIRMATION : str = \"I am capable of doing anything I put my mind to.\"\n",
        "\n",
        "def main():\n",
        "    print(\"Please type the following affirmation: \" + AFFIRMATION)\n",
        "\n",
        "    user_feedback = input()\n",
        "    while user_feedback != AFFIRMATION:\n",
        "\n",
        "        print(\"That was not the affirmation.\")\n",
        "\n",
        "        print(\"Please type the following affirmation: \" + AFFIRMATION)\n",
        "        user_feedback = input()\n",
        "\n",
        "    print(\"That's right! :)\")\n",
        "\n",
        "if __name__ == '__main__':\n",
        "    main()"
      ],
      "metadata": {
        "colab": {
          "base_uri": "https://localhost:8080/"
        },
        "id": "oqOS-witAwLF",
        "outputId": "0aefd3ba-3175-4599-b0a6-096c28e3a8a8"
      },
      "execution_count": null,
      "outputs": [
        {
          "output_type": "stream",
          "name": "stdout",
          "text": [
            "Please type the following affirmation: I am capable of doing anything I put my mind to.\n",
            "i am capable of doing anything i put my mind to\n",
            "That was not the affirmation.\n",
            "Please type the following affirmation: I am capable of doing anything I put my mind to.\n",
            " I am capable of doing anything I put my mind to.\n",
            "That was not the affirmation.\n",
            "Please type the following affirmation: I am capable of doing anything I put my mind to.\n",
            "I am capable of doing anything I put my mind to.\n",
            "That's right! :)\n"
          ]
        }
      ]
    },
    {
      "cell_type": "markdown",
      "source": [
        "Lift off:"
      ],
      "metadata": {
        "id": "FKcKX5e7Ergd"
      }
    },
    {
      "cell_type": "code",
      "source": [
        "for i in range(10, 0, -1):\n",
        "    print(i, end=' ')\n",
        "print(\"Liftoff!\")"
      ],
      "metadata": {
        "colab": {
          "base_uri": "https://localhost:8080/"
        },
        "id": "QT1z-pHPCsVu",
        "outputId": "f0dfaee1-1527-4ba6-d59c-e694a5b4f398"
      },
      "execution_count": null,
      "outputs": [
        {
          "output_type": "stream",
          "name": "stdout",
          "text": [
            "10 9 8 7 6 5 4 3 2 1 Liftoff!\n"
          ]
        }
      ]
    },
    {
      "cell_type": "markdown",
      "source": [
        "Double it:"
      ],
      "metadata": {
        "id": "2xzz7zhKExQJ"
      }
    },
    {
      "cell_type": "code",
      "source": [
        "# Get initial number from user\n",
        "curr_value = int(input(\"Enter a number: \"))\n",
        "while curr_value < 100:\n",
        "    curr_value = curr_value * 2\n",
        "    print(curr_value, end=' ')\n",
        "\n",
        "print()"
      ],
      "metadata": {
        "colab": {
          "base_uri": "https://localhost:8080/"
        },
        "id": "2MKHZdUsDBjG",
        "outputId": "422faa8e-1261-4d52-aba8-9607e2509468"
      },
      "execution_count": null,
      "outputs": [
        {
          "output_type": "stream",
          "name": "stdout",
          "text": [
            "Enter a number: 56\n",
            "112 \n"
          ]
        }
      ]
    },
    {
      "cell_type": "markdown",
      "source": [
        "Assignment 1: Basic"
      ],
      "metadata": {
        "id": "Jcy32HsRDmhg"
      }
    },
    {
      "cell_type": "markdown",
      "source": [
        "Joke bot:"
      ],
      "metadata": {
        "id": "ASNMgLvJE_Yr"
      }
    },
    {
      "cell_type": "code",
      "source": [
        "# Constants\n",
        "PROMPT = \"What do you want? \"\n",
        "JOKE = \"Here is a joke for you! Panaversity GPT - Sophia is heading out to the grocery store. A programmer tells her: get a liter of milk, and if they have eggs, get 12. Sophia returns with 13 liters of milk. The programmer asks why and Sophia replies: 'because they had eggs'\"\n",
        "SORRY = \"Sorry I only tell jokes\"\n",
        "\n",
        "# Get user input\n",
        "user_input = input(PROMPT)\n",
        "\n",
        "# Respond based on input\n",
        "if user_input == \"Joke\":\n",
        "    print(JOKE)\n",
        "else:\n",
        "    print(SORRY)"
      ],
      "metadata": {
        "colab": {
          "base_uri": "https://localhost:8080/"
        },
        "id": "drBQCdfCD9zY",
        "outputId": "906ce175-525b-44e5-8e4f-b19d255732f3"
      },
      "execution_count": null,
      "outputs": [
        {
          "output_type": "stream",
          "name": "stdout",
          "text": [
            "What do you want? Joke\n",
            "Here is a joke for you! Panaversity GPT - Sophia is heading out to the grocery store. A programmer tells her: get a liter of milk, and if they have eggs, get 12. Sophia returns with 13 liters of milk. The programmer asks why and Sophia replies: 'because they had eggs'\n"
          ]
        }
      ]
    },
    {
      "cell_type": "markdown",
      "source": [
        "Double it:"
      ],
      "metadata": {
        "id": "dp6FgJjKFCvA"
      }
    },
    {
      "cell_type": "code",
      "source": [
        "# Ask the user for a starting number\n",
        "curr_value = int(input(\"Enter a number: \"))\n",
        "\n",
        "# Double the number until it's 100 or greater\n",
        "while curr_value < 100:\n",
        "    curr_value = curr_value * 2  # Double the current value\n",
        "    print(curr_value, end=' ')   # Print with space separation\n",
        "\n",
        "print()"
      ],
      "metadata": {
        "id": "RJJdV5mDFHjV",
        "outputId": "27427df6-10e4-4bd3-e235-2c72ec786e36",
        "colab": {
          "base_uri": "https://localhost:8080/"
        }
      },
      "execution_count": null,
      "outputs": [
        {
          "output_type": "stream",
          "name": "stdout",
          "text": [
            "Enter a number: 54\n",
            "108 \n"
          ]
        }
      ]
    },
    {
      "cell_type": "markdown",
      "source": [
        "Lift off:"
      ],
      "metadata": {
        "id": "tpEMqpkQFHvm"
      }
    },
    {
      "cell_type": "code",
      "source": [
        "def main():\n",
        "\n",
        "\n",
        "  for i in range(10):\n",
        "    print(10 - i, end=' ')\n",
        "print(\"Liftoff!\")\n",
        "\n",
        "if __name__ == '__main__':\n",
        "    main()\n",
        "\n"
      ],
      "metadata": {
        "colab": {
          "base_uri": "https://localhost:8080/"
        },
        "id": "8JVfA-Ubp5Au",
        "outputId": "36718549-7df4-4528-c64e-8db4b48f7e44"
      },
      "execution_count": null,
      "outputs": [
        {
          "output_type": "stream",
          "name": "stdout",
          "text": [
            "Liftoff!\n",
            "10 9 8 7 6 5 4 3 2 1 "
          ]
        }
      ]
    },
    {
      "cell_type": "markdown",
      "source": [
        "guess the number:"
      ],
      "metadata": {
        "id": "ZU_2Ymk4FM8C"
      }
    },
    {
      "cell_type": "code",
      "source": [
        "import random\n",
        "\n",
        "def main():\n",
        "\n",
        "    secret_number: int = random.randint(1, 99)\n",
        "\n",
        "    print(\"I am thinking of a number between 1 and 99...\")\n",
        "\n",
        "    # Get user's guess\n",
        "    guess = int(input(\"Enter a guess: \"))\n",
        "\n",
        "    while guess != secret_number:\n",
        "        if guess < secret_number:\n",
        "            print(\"Your guess is too low\")\n",
        "        else:\n",
        "            print(\"Your guess is too high\")\n",
        "\n",
        "        print() # Print an empty line to tidy up the console for new guesses\n",
        "        guess: int = int(input(\"Enter a new guess: \"))  # Get a new guess from the user\n",
        "\n",
        "    print(\"Congrats! The number was: \" + str(secret_number))\n",
        "\n",
        "if __name__ == '__main__':\n",
        "    main()\n"
      ],
      "metadata": {
        "colab": {
          "base_uri": "https://localhost:8080/"
        },
        "id": "Y2nhZm2DqvY4",
        "outputId": "43607ede-e3b2-47c2-b2ca-0139c594f05c"
      },
      "execution_count": null,
      "outputs": [
        {
          "output_type": "stream",
          "name": "stdout",
          "text": [
            "I am thinking of a number between 1 and 99...\n",
            "Enter a guess: 56\n",
            "Your guess is too high\n",
            "\n",
            "Enter a new guess: 43\n",
            "Your guess is too low\n",
            "\n",
            "Enter a new guess: 50\n",
            "Your guess is too high\n",
            "\n",
            "Enter a new guess: 48\n",
            "Congrats! The number was: 48\n"
          ]
        }
      ]
    },
    {
      "cell_type": "markdown",
      "source": [
        "Random numbers:"
      ],
      "metadata": {
        "id": "zlRDUPakFSNg"
      }
    },
    {
      "cell_type": "code",
      "source": [
        "import random\n",
        "\n",
        "N_NUMBERS: int = 10\n",
        "MIN_VALUE: int = 1\n",
        "MAX_VALUE: int = 100\n",
        "\n",
        "def main():\n",
        "\n",
        "\n",
        "  for _ in range(10):\n",
        "    print(random.randint(1, 100), end=' ')\n",
        "print()\n",
        "\n",
        "if __name__ == '__main__':\n",
        "    main()"
      ],
      "metadata": {
        "colab": {
          "base_uri": "https://localhost:8080/"
        },
        "id": "NbFW20LYrSv1",
        "outputId": "661063da-d0cf-4d48-d621-3fdc2d6dfa84"
      },
      "execution_count": null,
      "outputs": [
        {
          "output_type": "stream",
          "name": "stdout",
          "text": [
            "\n",
            "4 83 59 55 71 13 59 55 39 64 "
          ]
        }
      ]
    },
    {
      "cell_type": "code",
      "source": [
        "# Project 1: Mad libs Python Project\n",
        "\n",
        "name = input(\"Enter a name: \")\n",
        "place = input(\"Enter a place: \")\n",
        "animal = input(\"Enter an animal: \")\n",
        "adjective = input(\"Enter an adjective: \")\n",
        "verb = input(\"Enter a verb: \")\n",
        "food = input(\"Enter a food: \")\n",
        "# story template\n",
        "story = f\"\"\"One day, {name} went to the {place}.There saw a {adjective} {animal}  that was trying to {verb}.\n",
        "Surprised,{name} decided to help by offering it some {food}.\n",
        "The {animal} said, thank you so much!\n",
        "It was a good day!\"\"\"\n",
        "\n",
        "print(\"\\nYour Mad Libs story:\")\n",
        "print(story)"
      ],
      "metadata": {
        "colab": {
          "base_uri": "https://localhost:8080/"
        },
        "id": "cup0la8CaH20",
        "outputId": "74c18560-83d8-4d15-9243-577c37a2c06c"
      },
      "execution_count": null,
      "outputs": [
        {
          "output_type": "stream",
          "name": "stdout",
          "text": [
            "Enter a name: ali\n",
            "Enter a place: garden\n",
            "Enter an animal: cow\n",
            "Enter an adjective: good\n",
            "Enter a verb: sing\n",
            "Enter a food: grass\n",
            "\n",
            "Your Mad Libs story:\n",
            "One day, ali went to the garden.There saw a good cow  that was trying to sing.\n",
            "Surprised,ali decided to help by offering it some grass.\n",
            "The cow said, thank you so much!\n",
            "It was a good day!\n"
          ]
        }
      ]
    },
    {
      "cell_type": "code",
      "source": [
        "# Project 2: Guess the Number Game Python Project (computer)\n",
        "import random\n",
        "secret_number = random.randint(1, 100)\n",
        "guess_count = 0\n",
        "print(\"Welcome to 'Guess the Number Game'!\")\n",
        "print(\"I'm thinking of a number between 1 and 100. Can you guess it?\")\n",
        "while True:\n",
        "    guess = int(input(\"Enter your guess: \"))\n",
        "    guess_count += 1\n",
        "    if guess< secret_number:\n",
        "        print(\"Too low! Try again.\")\n",
        "    elif guess > secret_number:\n",
        "        print(\"Too high! Try again.\")\n",
        "    else:\n",
        "        print(f\"Congratulations! You guessed the number {secret_number} in {guess_count} tries!\")\n",
        "        break\n"
      ],
      "metadata": {
        "colab": {
          "base_uri": "https://localhost:8080/"
        },
        "id": "CDFKtFd2azvH",
        "outputId": "d1c63b55-b6b2-4436-b048-8b646950df4f"
      },
      "execution_count": null,
      "outputs": [
        {
          "output_type": "stream",
          "name": "stdout",
          "text": [
            "Welcome to 'Guess the Number Game'!\n",
            "I'm thinking of a number between 1 and 100. Can you guess it?\n",
            "Enter your guess: 50\n",
            "Too high! Try again.\n",
            "Enter your guess: 48\n",
            "Too high! Try again.\n",
            "Enter your guess: 49\n",
            "Too high! Try again.\n",
            "Enter your guess: 25\n",
            "Too low! Try again.\n",
            "Enter your guess: 35\n",
            "Too low! Try again.\n",
            "Enter your guess: 40\n",
            "Too low! Try again.\n",
            "Enter your guess: 43\n",
            "Congratulations! You guessed the number 43 in 7 tries!\n"
          ]
        }
      ]
    },
    {
      "cell_type": "code",
      "source": [
        "#Project 3: Guess the Number Game Python Project (user)\n",
        "import random\n",
        "secret_number = random.randint(1, 100)\n",
        "guess_count = 0\n",
        "print(\"Welcome to 'Guess the Number Game'!\")\n",
        "print(\"The computer will think of a number between 1 and 100.\")\n",
        "print(\"Can you guess it?\")\n",
        "attempts = 0\n",
        "while True:\n",
        " guess = int(input(\"Enter your guess: \"))\n",
        " attempts += 1\n",
        " if guess< secret_number:\n",
        "  print(\"Too low! Try again.\")\n",
        " elif guess > secret_number:\n",
        "  print(\"Too high! Try again.\")\n",
        " else:\n",
        "  print(f\"Congratulations! You guessed the number {secret_number} in {attempts} attempts!\")\n",
        "  break\n"
      ],
      "metadata": {
        "colab": {
          "base_uri": "https://localhost:8080/"
        },
        "id": "7Y28rGhCa_No",
        "outputId": "4457782f-083c-428a-d6cb-ec9d0e0d48df"
      },
      "execution_count": null,
      "outputs": [
        {
          "output_type": "stream",
          "name": "stdout",
          "text": [
            "Welcome to 'Guess the Number Game'!\n",
            "The computer will think of a number between 1 and 100.\n",
            "Can you guess it?\n",
            "Enter your guess: 50\n",
            "Too high! Try again.\n",
            "Enter your guess: 25\n",
            "Too high! Try again.\n",
            "Enter your guess: 12\n",
            "Too high! Try again.\n",
            "Enter your guess: 6\n",
            "Too high! Try again.\n",
            "Enter your guess: 3\n",
            "Too high! Try again.\n",
            "Enter your guess: 1\n",
            "Too low! Try again.\n",
            "Enter your guess: 2\n",
            "Congratulations! You guessed the number 2 in 7 attempts!\n"
          ]
        }
      ]
    },
    {
      "cell_type": "code",
      "source": [
        "# Project 4: Rock, paper, scissors Python Project\n",
        "import random\n",
        "\n",
        "def rock_paper_scissors():\n",
        "    user_action = input(\"Enter a choice (rock, paper, scissors): \").lower()\n",
        "    choices = [\"rock\", \"paper\", \"scissors\"]\n",
        "\n",
        "    # Validate user input\n",
        "    if user_action not in choices:\n",
        "        print(\"Invalid choice. Please choose rock, paper, or scissors.\")\n",
        "        return\n",
        "\n",
        "    computer = random.choice(choices)\n",
        "    print(f\"\\nYou chose {user_action}, computer chose {computer}.\\n\")\n",
        "\n",
        "    if user_action == computer:\n",
        "        print(f\"Both players selected {user_action}. It's a tie!\")\n",
        "    elif user_action == \"rock\":\n",
        "        if computer == \"scissors\":\n",
        "            print(\"Rock smashes scissors! You win!\")\n",
        "        else:\n",
        "            print(\"Paper covers rock! You lose.\")\n",
        "    elif user_action == \"paper\":\n",
        "        if computer == \"rock\":\n",
        "            print(\"Paper covers rock! You win!\")\n",
        "        else:\n",
        "            print(\"Scissors cut paper! You lose.\")\n",
        "    elif user_action == \"scissors\":\n",
        "        if computer == \"paper\":\n",
        "            print(\"Scissors cut paper! You win!\")\n",
        "        else:\n",
        "            print(\"Rock smashes scissors! You lose.\")\n",
        "\n",
        "# Run the game\n",
        "rock_paper_scissors()"
      ],
      "metadata": {
        "colab": {
          "base_uri": "https://localhost:8080/"
        },
        "id": "f0aC7bVpbPTf",
        "outputId": "2587359c-ae49-4b31-8b70-0df79eab0d27"
      },
      "execution_count": null,
      "outputs": [
        {
          "output_type": "stream",
          "name": "stdout",
          "text": [
            "Enter a choice (rock, paper, scissors): rock\n",
            "\n",
            "You chose rock, computer chose scissors.\n",
            "\n",
            "Rock smashes scissors! You win!\n"
          ]
        }
      ]
    },
    {
      "cell_type": "code",
      "source": [
        "#Project 5: Hangman Python Project\n",
        "import random\n",
        "\n",
        "def hangman():\n",
        "    # List of words for the game\n",
        "    words = [\"python\", \"programming\", \"hangman\", \"challenge\", \"developer\", \"learning\"]\n",
        "    word = random.choice(words)\n",
        "    guessed_word = \"_\" * len(word)\n",
        "    guessed_word = list(guessed_word)\n",
        "    lives = 6\n",
        "    guessed_letters = []\n",
        "\n",
        "    print(\"Welcome to Hangman!\")\n",
        "    print(\" \".join(guessed_word))\n",
        "\n",
        "    while lives > 0 and \"_\" in guessed_word:\n",
        "\n",
        "        guess = input(\"Guess a letter: \").lower()\n",
        "\n",
        "\n",
        "        if len(guess) != 1 or not guess.isalpha():\n",
        "            print(\"Please enter a single valid letter.\")\n",
        "            continue\n",
        "\n",
        "\n",
        "        if guess in guessed_letters:\n",
        "            print(\"You already guessed that letter. Try again.\")\n",
        "            continue\n",
        "\n",
        "\n",
        "        guessed_letters.append(guess)\n",
        "\n",
        "\n",
        "        if guess in word:\n",
        "            print(f\"Good job! '{guess}' is in the word.\")\n",
        "            # Update the guessed_word to reveal the letter\n",
        "            for i in range(len(word)):\n",
        "                if word[i] == guess:\n",
        "                    guessed_word[i] = guess\n",
        "        else:\n",
        "            print(f\"Sorry, '{guess}' is not in the word.\")\n",
        "            lives -= 1\n",
        "            print(f\"You have {lives} lives left.\")\n",
        "\n",
        "\n",
        "        print(\" \".join(guessed_word))\n",
        "\n",
        "\n",
        "    if \"_\" not in guessed_word:\n",
        "        print(\"Congratulations! You guessed the word:\", word)\n",
        "    else:\n",
        "        print(\"Game over! You ran out of lives. The word was:\", word)\n",
        "\n",
        "# Run the game\n",
        "hangman()"
      ],
      "metadata": {
        "colab": {
          "base_uri": "https://localhost:8080/"
        },
        "id": "VIwyqjCzbZQ0",
        "outputId": "93f0553d-77cb-4cf8-be6c-dd1feb48a037"
      },
      "execution_count": null,
      "outputs": [
        {
          "output_type": "stream",
          "name": "stdout",
          "text": [
            "Welcome to Hangman!\n",
            "_ _ _ _ _ _ _ _ _\n",
            "Guess a letter: r\n",
            "Sorry, 'r' is not in the word.\n",
            "You have 5 lives left.\n",
            "_ _ _ _ _ _ _ _ _\n",
            "Guess a letter: g\n",
            "Good job! 'g' is in the word.\n",
            "_ _ _ _ _ _ _ g _\n",
            "Guess a letter: p\n",
            "Sorry, 'p' is not in the word.\n",
            "You have 4 lives left.\n",
            "_ _ _ _ _ _ _ g _\n",
            "Guess a letter: g\n",
            "You already guessed that letter. Try again.\n",
            "Guess a letter: a\n",
            "Good job! 'a' is in the word.\n",
            "_ _ a _ _ _ _ g _\n",
            "Guess a letter: t\n",
            "Sorry, 't' is not in the word.\n",
            "You have 3 lives left.\n",
            "_ _ a _ _ _ _ g _\n",
            "Guess a letter: h\n",
            "Good job! 'h' is in the word.\n",
            "_ h a _ _ _ _ g _\n",
            "Guess a letter: s\n",
            "Sorry, 's' is not in the word.\n",
            "You have 2 lives left.\n",
            "_ h a _ _ _ _ g _\n",
            "Guess a letter: a\n",
            "You already guessed that letter. Try again.\n",
            "Guess a letter: y\n",
            "Sorry, 'y' is not in the word.\n",
            "You have 1 lives left.\n",
            "_ h a _ _ _ _ g _\n",
            "Guess a letter: j\n",
            "Sorry, 'j' is not in the word.\n",
            "You have 0 lives left.\n",
            "_ h a _ _ _ _ g _\n",
            "Game over! You ran out of lives. The word was: challenge\n"
          ]
        }
      ]
    },
    {
      "cell_type": "code",
      "source": [
        "#Project 6: Countdown Timer Python Project\n",
        "import time\n",
        "\n",
        "def countdown_timer():\n",
        "\n",
        "    try:\n",
        "        seconds = int(input(\"Enter the countdown time in seconds: \"))\n",
        "    except ValueError:\n",
        "        print(\"Please enter a valid number.\")\n",
        "        return\n",
        "\n",
        "    while seconds > 0:\n",
        "\n",
        "        mins = seconds // 60\n",
        "        secs = seconds % 60\n",
        "\n",
        "\n",
        "        timer = f\"{mins:02d}:{secs:02d}\"\n",
        "\n",
        "\n",
        "        print(timer, end=\"\\r\")\n",
        "\n",
        "\n",
        "        time.sleep(1)\n",
        "\n",
        "\n",
        "        seconds -= 1\n",
        "\n",
        "\n",
        "    print(\"Time's up!\")\n",
        "\n",
        "\n",
        "countdown_timer()"
      ],
      "metadata": {
        "colab": {
          "base_uri": "https://localhost:8080/"
        },
        "id": "NB5X9vpCbtJE",
        "outputId": "e7a33ef8-2882-4f72-cba9-81bee0598de9"
      },
      "execution_count": null,
      "outputs": [
        {
          "output_type": "stream",
          "name": "stdout",
          "text": [
            "Enter the countdown time in seconds: 60\n",
            "Time's up!\n"
          ]
        }
      ]
    }
  ],
  "metadata": {
    "colab": {
      "provenance": [],
      "authorship_tag": "ABX9TyO3BLTZq55vjYRNBKB22FMv",
      "include_colab_link": true
    },
    "kernelspec": {
      "display_name": "Python 3",
      "name": "python3"
    },
    "language_info": {
      "name": "python"
    }
  },
  "nbformat": 4,
  "nbformat_minor": 0
}